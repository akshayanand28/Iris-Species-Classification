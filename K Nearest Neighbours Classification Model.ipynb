{
 "cells": [
  {
   "cell_type": "markdown",
   "metadata": {},
   "source": [
    "# KNN Algorithm to Classify Iris Species"
   ]
  },
  {
   "cell_type": "markdown",
   "metadata": {},
   "source": [
    "### Dataset Name : Iris Flower Dataset\n",
    "### Number of Attributes : 5\n",
    "### Number of Instances : 150"
   ]
  },
  {
   "cell_type": "code",
   "execution_count": 1,
   "metadata": {},
   "outputs": [],
   "source": [
    "import pandas as pd\n",
    "import numpy as np\n",
    "import matplotlib.pyplot as plt\n",
    "import math\n",
    "import operator"
   ]
  },
  {
   "cell_type": "markdown",
   "metadata": {},
   "source": [
    "### Function to calculate Euclidean Distance\n",
    "Euclidean Distance is calculated for all the points in the training set for the test instance."
   ]
  },
  {
   "cell_type": "code",
   "execution_count": 2,
   "metadata": {},
   "outputs": [],
   "source": [
    "def euclideanDistance(instance1, instance2):\n",
    "    distance = 0\n",
    "    length=len(instance1)\n",
    "    for x in range(length):\n",
    "        distance = pow((instance1[x] - instance2[x]), 2)\n",
    "    return math.sqrt(distance)"
   ]
  },
  {
   "cell_type": "markdown",
   "metadata": {},
   "source": [
    "### Function to find K nearest training set points to each test instance\n",
    "Distance is calculated between each training example and test instances using the euclideanDistance() function. The distances are stored in a list. The list is sorted and the first K items in the list are returned as the K nearest neighbours to the test instance."
   ]
  },
  {
   "cell_type": "code",
   "execution_count": 3,
   "metadata": {},
   "outputs": [],
   "source": [
    "def getNeighbors(trainingSet, testInstance, k):\n",
    "    distances = []\n",
    "    for x in range(len(trainingSet)):\n",
    "        dist = euclideanDistance(testInstance, trainingSet[x])\n",
    "        distances.append((trainingSet[x], dist))\n",
    "    distances.sort(key=operator.itemgetter(1))\n",
    "    neighbors = []\n",
    "    for x in range(k):\n",
    "        neighbors.append(distances[x][0])\n",
    "    return neighbors"
   ]
  },
  {
   "cell_type": "markdown",
   "metadata": {},
   "source": [
    "### Function to predict the class of the test instance\n",
    "Calculate the number of occurances of each class among the K nearest neighbours. Sort them based on the the number of occurances in decreasing order. The class with the highest occcurance is the predicted class."
   ]
  },
  {
   "cell_type": "code",
   "execution_count": 22,
   "metadata": {},
   "outputs": [],
   "source": [
    "def getResponse(neighbors):\n",
    "    classVotes = {}\n",
    "    for x in range(len(neighbors)):\n",
    "        response = neighbors[x][-1]\n",
    "        #print(response)\n",
    "        if response in classVotes:\n",
    "            classVotes[response] += 1\n",
    "        else:\n",
    "            classVotes[response] = 1\n",
    "    \n",
    "    sortedVotes = sorted(classVotes.items(), key=operator.itemgetter(1), reverse=True)\n",
    "    return sortedVotes[0][0]"
   ]
  },
  {
   "cell_type": "markdown",
   "metadata": {},
   "source": [
    "### Function to calculate the accuracy of the KNN Model\n",
    "For every instance in the test set, the actual target values and the predicted target values are compared. Based on the total number of correct predictions out of the total number of test instances, the accuracy is calculated."
   ]
  },
  {
   "cell_type": "code",
   "execution_count": 23,
   "metadata": {},
   "outputs": [],
   "source": [
    "def getAccuracy(testSet, predictions):\n",
    "    correct = 0\n",
    "    for x in range(len(testSet)):\n",
    "        if testSet[x][-1] == predictions[x]:\n",
    "            correct += 1\n",
    "    return (correct/float(len(testSet))) * 100.0"
   ]
  },
  {
   "cell_type": "markdown",
   "metadata": {},
   "source": [
    "### Main Function for the KNN Model\n",
    "Load the training and test set using Pandas and convert them to an array.\n",
    "\n",
    "For K=3, we calculate the 3 nearest neighbourse to every instance in the test set using the getNeighbors() function.\n",
    "\n",
    "Based on the neighbours, we calculated the most frequently occusring class among the 3 nearest neighbors to the test instance using the getResponse() function.\n",
    "\n",
    "We compare these predicted values for each test instance and comapare it with the actual value of the target variable and calculate the accuracy using the getAccuracy() function."
   ]
  },
  {
   "cell_type": "code",
   "execution_count": 24,
   "metadata": {},
   "outputs": [],
   "source": [
    "def main():\n",
    "    train_set = pd.read_csv('train.csv')\n",
    "    train_set=np.array(train_set)\n",
    "    test_set = pd.read_csv('test.csv')\n",
    "    test_set=np.array(test_set)\n",
    "    predictions=[]\n",
    "    k = 3\n",
    "    for x in range(len(test_set)):\n",
    "        neighbors = getNeighbors(train_set, test_set[x], k)\n",
    "        result = getResponse(neighbors)\n",
    "        predictions.append(result)\n",
    "        print('Predicted=' + repr(result) + ', Actual=' + repr(test_set[x][-1]) + '\\n')\n",
    "    accuracy = getAccuracy(test_set, predictions)\n",
    "    print('Accuracy: ' + repr(accuracy) + '%')"
   ]
  },
  {
   "cell_type": "markdown",
   "metadata": {},
   "source": [
    "### Calling the main() function to run the KNN Model"
   ]
  },
  {
   "cell_type": "code",
   "execution_count": 25,
   "metadata": {
    "scrolled": false
   },
   "outputs": [
    {
     "name": "stdout",
     "output_type": "stream",
     "text": [
      "Predicted=1.0, Actual=1.0\n",
      "\n",
      "Predicted=1.0, Actual=1.0\n",
      "\n",
      "Predicted=2.0, Actual=2.0\n",
      "\n",
      "Predicted=2.0, Actual=2.0\n",
      "\n",
      "Predicted=2.0, Actual=2.0\n",
      "\n",
      "Predicted=3.0, Actual=3.0\n",
      "\n",
      "Predicted=3.0, Actual=3.0\n",
      "\n",
      "Predicted=3.0, Actual=3.0\n",
      "\n",
      "Accuracy: 100.0%\n"
     ]
    }
   ],
   "source": [
    "main()"
   ]
  }
 ],
 "metadata": {
  "kernelspec": {
   "display_name": "Python 3",
   "language": "python",
   "name": "python3"
  },
  "language_info": {
   "codemirror_mode": {
    "name": "ipython",
    "version": 3
   },
   "file_extension": ".py",
   "mimetype": "text/x-python",
   "name": "python",
   "nbconvert_exporter": "python",
   "pygments_lexer": "ipython3",
   "version": "3.6.7"
  }
 },
 "nbformat": 4,
 "nbformat_minor": 2
}
